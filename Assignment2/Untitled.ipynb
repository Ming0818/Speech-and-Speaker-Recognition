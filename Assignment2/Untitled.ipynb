{
 "cells": [
  {
   "cell_type": "code",
   "execution_count": 1,
   "metadata": {},
   "outputs": [],
   "source": [
    "%load_ext autoreload\n",
    "%autoreload 2"
   ]
  },
  {
   "cell_type": "code",
   "execution_count": 12,
   "metadata": {},
   "outputs": [],
   "source": [
    "import numpy as np\n",
    "from tools2 import *\n",
    "from proto2 import *\n",
    "from prondict import *\n",
    "from sklearn.mixture import log_multivariate_normal_density\n",
    "\n",
    "example = np.load('lab2_example.npz')['example'].item()\n",
    "data = np.load('lab2_data.npz')['data']\n",
    "phoneHMMs = np.load('lab2_models.npz')['phoneHMMs'].item()"
   ]
  },
  {
   "cell_type": "code",
   "execution_count": 13,
   "metadata": {},
   "outputs": [],
   "source": [
    "modellist = {}\n",
    "for digit in prondict.keys():\n",
    "    modellist[digit] = ['sil'] + prondict[digit] + ['sil']"
   ]
  },
  {
   "cell_type": "code",
   "execution_count": 14,
   "metadata": {},
   "outputs": [],
   "source": [
    "wordHMMs = {}\n",
    "wordHMMs['o'] = concatHMMs(phoneHMMs,modellist['o'],'o')"
   ]
  },
  {
   "cell_type": "code",
   "execution_count": 15,
   "metadata": {},
   "outputs": [
    {
     "data": {
      "text/plain": [
       "array([0., 0., 0., 0., 0., 0., 0., 0., 0., 1.])"
      ]
     },
     "execution_count": 15,
     "metadata": {},
     "output_type": "execute_result"
    }
   ],
   "source": [
    "wordHMMs['o']['transmat'][9]"
   ]
  },
  {
   "cell_type": "code",
   "execution_count": 16,
   "metadata": {},
   "outputs": [
    {
     "name": "stderr",
     "output_type": "stream",
     "text": [
      "/usr/lib/python3.6/site-packages/sklearn/utils/deprecation.py:77: DeprecationWarning: Function log_multivariate_normal_density is deprecated; The function log_multivariate_normal_density is deprecated in 0.18 and will be removed in 0.20.\n",
      "  warnings.warn(msg, category=DeprecationWarning)\n"
     ]
    }
   ],
   "source": [
    "la = log_multivariate_normal_density(example['lmfcc'],wordHMMs['o']['means'],wordHMMs['o']['covars'],'diag')"
   ]
  },
  {
   "cell_type": "code",
   "execution_count": 7,
   "metadata": {},
   "outputs": [
    {
     "data": {
      "text/plain": [
       "True"
      ]
     },
     "execution_count": 7,
     "metadata": {},
     "output_type": "execute_result"
    }
   ],
   "source": [
    "np.allclose(example['obsloglik'],la)"
   ]
  },
  {
   "cell_type": "code",
   "execution_count": 106,
   "metadata": {},
   "outputs": [
    {
     "data": {
      "text/plain": [
       "(9, 13)"
      ]
     },
     "execution_count": 106,
     "metadata": {},
     "output_type": "execute_result"
    }
   ],
   "source": [
    "wordHMMs['o']['covars'].shape"
   ]
  },
  {
   "cell_type": "code",
   "execution_count": 10,
   "metadata": {},
   "outputs": [
    {
     "data": {
      "text/plain": [
       "dict_keys(['digit', 'startprob', 'means', 'covars', 'transmat'])"
      ]
     },
     "execution_count": 10,
     "metadata": {},
     "output_type": "execute_result"
    }
   ],
   "source": [
    "wordHMMs['o'].keys()"
   ]
  },
  {
   "cell_type": "code",
   "execution_count": 17,
   "metadata": {},
   "outputs": [
    {
     "name": "stdout",
     "output_type": "stream",
     "text": [
      "(71, 9)\n"
     ]
    },
    {
     "name": "stderr",
     "output_type": "stream",
     "text": [
      "/usr/lib/python3.6/site-packages/ipykernel_launcher.py:1: RuntimeWarning: divide by zero encountered in log\n",
      "  \"\"\"Entry point for launching an IPython kernel.\n"
     ]
    }
   ],
   "source": [
    "ma = forward(la,np.log(wordHMMs['o']['startprob']),np.log(wordHMMs['o']['transmat']))\n",
    "print(ma.shape)"
   ]
  },
  {
   "cell_type": "code",
   "execution_count": 14,
   "metadata": {},
   "outputs": [
    {
     "data": {
      "text/plain": [
       "(10, 10)"
      ]
     },
     "execution_count": 14,
     "metadata": {},
     "output_type": "execute_result"
    }
   ],
   "source": [
    "wordHMMs['o']['transmat'].shape"
   ]
  },
  {
   "cell_type": "code",
   "execution_count": 16,
   "metadata": {},
   "outputs": [
    {
     "data": {
      "text/plain": [
       "dict_keys(['samples', 'gender', 'speaker', 'vloglik', 'obsloglik', 'logalpha', 'loggamma', 'samplingrate', 'lmfcc', 'logbeta', 'digit', 'filename', 'loglik', 'repetition'])"
      ]
     },
     "execution_count": 16,
     "metadata": {},
     "output_type": "execute_result"
    }
   ],
   "source": [
    "example.keys()"
   ]
  },
  {
   "cell_type": "code",
   "execution_count": 18,
   "metadata": {},
   "outputs": [
    {
     "data": {
      "text/plain": [
       "True"
      ]
     },
     "execution_count": 18,
     "metadata": {},
     "output_type": "execute_result"
    }
   ],
   "source": [
    "np.allclose(example['logalpha'],ma)"
   ]
  },
  {
   "cell_type": "code",
   "execution_count": 19,
   "metadata": {},
   "outputs": [
    {
     "data": {
      "text/plain": [
       "True"
      ]
     },
     "execution_count": 19,
     "metadata": {},
     "output_type": "execute_result"
    }
   ],
   "source": [
    "np.allclose(logsumexp(ma[-1,:]),example['loglik'])"
   ]
  },
  {
   "cell_type": "code",
   "execution_count": 20,
   "metadata": {},
   "outputs": [
    {
     "name": "stderr",
     "output_type": "stream",
     "text": [
      "/usr/lib/python3.6/site-packages/ipykernel_launcher.py:1: RuntimeWarning: divide by zero encountered in log\n",
      "  \"\"\"Entry point for launching an IPython kernel.\n"
     ]
    },
    {
     "data": {
      "text/plain": [
       "(-3773.759402930079,\n",
       " array([0, 1, 1, 1, 2, 2, 2, 2, 0, 0, 0, 0, 3, 3, 3, 3, 3, 3, 4, 4, 4, 4,\n",
       "        4, 4, 4, 4, 4, 4, 4, 4, 4, 4, 5, 5, 5, 5, 5, 5, 5, 5, 5, 5, 5, 5,\n",
       "        5, 5, 5, 6, 6, 6, 6, 6, 6, 6, 6, 6, 6, 6, 6, 6, 6, 7, 7, 7, 7, 7,\n",
       "        7, 7, 7, 7, 7], dtype=int8))"
      ]
     },
     "execution_count": 20,
     "metadata": {},
     "output_type": "execute_result"
    }
   ],
   "source": [
    "viterbi(example['obsloglik'],np.log(wordHMMs['o']['startprob']),np.log(wordHMMs['o']['transmat']))"
   ]
  },
  {
   "cell_type": "code",
   "execution_count": 63,
   "metadata": {},
   "outputs": [
    {
     "data": {
      "text/plain": [
       "(-3773.759402930079,\n",
       " array([0, 1, 1, 1, 2, 2, 2, 0, 0, 0, 2, 3, 3, 3, 3, 3, 3, 4, 4, 4, 4, 4,\n",
       "        4, 4, 4, 4, 4, 4, 4, 4, 5, 5, 5, 5, 5, 5, 5, 5, 5, 5, 5, 5, 5, 5,\n",
       "        5, 5, 6, 6, 6, 6, 6, 6, 6, 6, 6, 6, 6, 6, 7, 7, 7, 7, 7, 7, 7, 7,\n",
       "        7, 7, 7, 7, 7]))"
      ]
     },
     "execution_count": 63,
     "metadata": {},
     "output_type": "execute_result"
    }
   ],
   "source": [
    "example['vloglik']"
   ]
  },
  {
   "cell_type": "code",
   "execution_count": 21,
   "metadata": {},
   "outputs": [
    {
     "name": "stdout",
     "output_type": "stream",
     "text": [
      "(71, 9)\n"
     ]
    },
    {
     "name": "stderr",
     "output_type": "stream",
     "text": [
      "/usr/lib/python3.6/site-packages/ipykernel_launcher.py:1: RuntimeWarning: divide by zero encountered in log\n",
      "  \"\"\"Entry point for launching an IPython kernel.\n"
     ]
    }
   ],
   "source": [
    "fa = backward(la,np.log(wordHMMs['o']['startprob']),np.log(wordHMMs['o']['transmat']))\n",
    "print(fa.shape)"
   ]
  },
  {
   "cell_type": "code",
   "execution_count": 73,
   "metadata": {},
   "outputs": [
    {
     "data": {
      "text/plain": [
       "True"
      ]
     },
     "execution_count": 73,
     "metadata": {},
     "output_type": "execute_result"
    }
   ],
   "source": [
    "np.allclose(example['logbeta'],fa)"
   ]
  },
  {
   "cell_type": "code",
   "execution_count": 99,
   "metadata": {},
   "outputs": [
    {
     "data": {
      "text/plain": [
       "0.0"
      ]
     },
     "execution_count": 99,
     "metadata": {},
     "output_type": "execute_result"
    }
   ],
   "source": [
    "np.exp(logsumexp(example['logalpha'][-1]))"
   ]
  },
  {
   "cell_type": "code",
   "execution_count": 102,
   "metadata": {},
   "outputs": [
    {
     "data": {
      "text/plain": [
       "True"
      ]
     },
     "execution_count": 102,
     "metadata": {},
     "output_type": "execute_result"
    }
   ],
   "source": [
    "np.allclose(example['loggamma'],statePosteriors(example['logalpha'],example['logbeta']))"
   ]
  },
  {
   "cell_type": "code",
   "execution_count": 103,
   "metadata": {},
   "outputs": [
    {
     "data": {
      "text/plain": [
       "array([[1.00000000e+000, 0.00000000e+000, 0.00000000e+000,\n",
       "        0.00000000e+000, 0.00000000e+000, 0.00000000e+000,\n",
       "        0.00000000e+000, 0.00000000e+000, 0.00000000e+000],\n",
       "       [2.00215652e-003, 9.97745388e-001, 2.52455253e-004,\n",
       "        0.00000000e+000, 0.00000000e+000, 0.00000000e+000,\n",
       "        0.00000000e+000, 0.00000000e+000, 0.00000000e+000],\n",
       "       [5.34301025e-006, 9.98181380e-001, 1.81327719e-003,\n",
       "        1.31933404e-084, 0.00000000e+000, 0.00000000e+000,\n",
       "        0.00000000e+000, 0.00000000e+000, 0.00000000e+000],\n",
       "       [6.84056276e-007, 9.88415580e-001, 1.15837356e-002,\n",
       "        3.56740353e-071, 5.69219766e-113, 0.00000000e+000,\n",
       "        0.00000000e+000, 0.00000000e+000, 0.00000000e+000],\n",
       "       [4.44351050e-005, 1.06077282e-002, 9.89347837e-001,\n",
       "        4.27774810e-058, 2.64524769e-105, 5.69219766e-113,\n",
       "        0.00000000e+000, 0.00000000e+000, 0.00000000e+000],\n",
       "       [1.11369861e-002, 9.41343873e-003, 9.79449575e-001,\n",
       "        5.77125208e-046, 3.31432343e-091, 2.64524775e-105,\n",
       "        0.00000000e+000, 0.00000000e+000, 0.00000000e+000],\n",
       "       [9.64778653e-002, 3.48669906e-004, 9.03173465e-001,\n",
       "        2.47813278e-035, 6.54065548e-082, 3.31432343e-091,\n",
       "        0.00000000e+000, 0.00000000e+000, 0.00000000e+000],\n",
       "       [8.01495202e-001, 1.60339238e-021, 1.98504798e-001,\n",
       "        5.47056565e-025, 4.88214235e-070, 6.54065549e-082,\n",
       "        0.00000000e+000, 0.00000000e+000, 0.00000000e+000],\n",
       "       [9.57663674e-001, 1.42520453e-007, 4.23361830e-002,\n",
       "        8.67698889e-022, 1.22305802e-057, 4.88214235e-070,\n",
       "        0.00000000e+000, 0.00000000e+000, 0.00000000e+000],\n",
       "       [8.04853966e-001, 5.67319955e-006, 1.95140361e-001,\n",
       "        1.62204406e-016, 6.37071661e-058, 1.22305802e-057,\n",
       "        3.73513628e-321, 0.00000000e+000, 0.00000000e+000],\n",
       "       [5.55708418e-002, 2.00314199e-007, 9.44428956e-001,\n",
       "        2.30049353e-009, 5.39181058e-041, 1.85869407e-057,\n",
       "        5.18000244e-314, 0.00000000e+000, 1.53160350e-322],\n",
       "       [7.60362369e-004, 1.58929546e-035, 1.89232127e-001,\n",
       "        8.10007511e-001, 4.89234424e-021, 1.84423520e-053,\n",
       "        5.15247203e-314, 0.00000000e+000, 2.75730181e-316],\n",
       "       [8.22193566e-012, 9.97475747e-061, 9.66040446e-004,\n",
       "        9.99033935e-001, 2.48392771e-008, 2.49492491e-038,\n",
       "        5.82170602e-314, 0.00000000e+000, 2.77652106e-315],\n",
       "       [8.04845292e-031, 2.02742739e-148, 8.76722205e-012,\n",
       "        9.99301271e-001, 6.98728671e-004, 7.33406716e-031,\n",
       "        8.75905409e-305, 0.00000000e+000, 6.09935802e-314],\n",
       "       [4.95394836e-047, 1.74530441e-194, 4.43908982e-023,\n",
       "        9.97718961e-001, 2.28103897e-003, 3.95679620e-026,\n",
       "        1.52390751e-291, 0.00000000e+000, 8.75905409e-305],\n",
       "       [8.85846830e-059, 4.43346987e-206, 1.06426837e-034,\n",
       "        9.65148779e-001, 3.48512209e-002, 1.04633202e-024,\n",
       "        1.99360092e-277, 0.00000000e+000, 1.52390751e-291],\n",
       "       [1.28331693e-070, 2.52111407e-211, 9.34621196e-047,\n",
       "        6.57559381e-001, 3.42440619e-001, 2.77624169e-022,\n",
       "        1.50435787e-266, 0.00000000e+000, 1.99360092e-277],\n",
       "       [3.17647736e-082, 2.89633223e-218, 7.94057127e-059,\n",
       "        1.46887608e-001, 8.53112392e-001, 9.27165722e-020,\n",
       "        3.14393822e-254, 0.00000000e+000, 1.50435787e-266],\n",
       "       [1.05835425e-094, 2.07948513e-224, 1.12396652e-070,\n",
       "        9.16849596e-003, 9.90831504e-001, 1.09881609e-017,\n",
       "        7.69937714e-242, 0.00000000e+000, 3.14393822e-254],\n",
       "       [1.85677213e-107, 7.10666323e-236, 2.94057765e-083,\n",
       "        1.49295525e-004, 9.99850704e-001, 7.41318230e-016,\n",
       "        1.36128506e-230, 0.00000000e+000, 7.69937714e-242],\n",
       "       [3.87287616e-120, 6.10462521e-243, 1.05251170e-095,\n",
       "        9.51178274e-007, 9.99999049e-001, 5.35881849e-014,\n",
       "        2.02130590e-218, 0.00000000e+000, 1.36128506e-230],\n",
       "       [1.76246655e-132, 1.82284323e-251, 2.05952380e-108,\n",
       "        1.94045884e-009, 9.99999998e-001, 3.09176832e-012,\n",
       "        4.13887069e-206, 0.00000000e+000, 2.02130590e-218],\n",
       "       [2.51739098e-144, 7.52399170e-261, 5.12723233e-121,\n",
       "        1.67379898e-012, 1.00000000e+000, 1.42415467e-010,\n",
       "        1.89894779e-193, 2.07507571e-322, 4.13887069e-206],\n",
       "       [3.89053453e-155, 7.29366579e-272, 4.33423849e-133,\n",
       "        1.80858517e-015, 9.99999994e-001, 5.56259342e-009,\n",
       "        9.04621776e-181, 2.84594559e-310, 1.89894779e-193],\n",
       "       [8.33914686e-166, 1.80414087e-276, 8.37904308e-144,\n",
       "        1.13877511e-018, 9.99999511e-001, 4.89433337e-007,\n",
       "        4.73574304e-169, 3.39856260e-291, 9.04621775e-181],\n",
       "       [1.97911156e-175, 2.02017739e-281, 1.03425435e-154,\n",
       "        4.04659449e-022, 9.99986055e-001, 1.39446637e-005,\n",
       "        9.51735162e-158, 1.05204623e-274, 4.73574303e-169],\n",
       "       [2.81325753e-186, 2.70983510e-290, 1.12784274e-164,\n",
       "        1.15551562e-025, 9.99788938e-001, 2.11061541e-004,\n",
       "        2.13583802e-146, 1.62530291e-261, 9.51735160e-158],\n",
       "       [9.74241623e-197, 3.07507728e-299, 9.04280024e-176,\n",
       "        4.04415816e-029, 9.97058860e-001, 2.94113976e-003,\n",
       "        2.80408955e-136, 7.22513574e-249, 2.13583801e-146],\n",
       "       [8.82454419e-207, 3.51598563e-306, 2.92194329e-186,\n",
       "        7.67705389e-033, 9.63519664e-001, 3.64803362e-002,\n",
       "        2.69065580e-125, 1.44595237e-235, 2.80408954e-136],\n",
       "       [5.56266686e-216, 2.16929208e-312, 2.04498481e-196,\n",
       "        3.98944736e-036, 7.79422089e-001, 2.20577911e-001,\n",
       "        4.96181955e-114, 1.24907904e-221, 2.69065579e-125],\n",
       "       [4.01095028e-225, 4.00654630e-318, 1.08288929e-205,\n",
       "        8.16884214e-040, 4.43741594e-001, 5.56258406e-001,\n",
       "        1.31144049e-103, 1.23286181e-206, 4.96181951e-114],\n",
       "       [3.17740374e-234, 0.00000000e+000, 3.13904646e-215,\n",
       "        1.73609935e-043, 1.33413237e-001, 8.66586763e-001,\n",
       "        2.59797969e-094, 9.92785590e-195, 1.31144048e-103],\n",
       "       [3.77616166e-242, 0.00000000e+000, 2.01789891e-224,\n",
       "        3.24425326e-047, 1.65508599e-002, 9.83449140e-001,\n",
       "        3.44222292e-085, 3.35718087e-181, 2.59797967e-094],\n",
       "       [4.48317045e-251, 0.00000000e+000, 2.81760085e-232,\n",
       "        2.33322323e-051, 9.37791954e-004, 9.99062208e-001,\n",
       "        2.64549466e-076, 4.23322341e-170, 3.44222285e-085],\n",
       "       [3.96060438e-259, 0.00000000e+000, 1.25403105e-241,\n",
       "        1.73860881e-055, 1.67050984e-005, 9.99983295e-001,\n",
       "        6.13289982e-069, 7.89324287e-160, 2.64549460e-076],\n",
       "       [1.04145597e-266, 0.00000000e+000, 1.08773095e-249,\n",
       "        1.60233854e-060, 2.25052284e-007, 9.99999775e-001,\n",
       "        7.01437092e-060, 5.48126449e-152, 6.13289935e-069],\n",
       "       [8.53992640e-276, 0.00000000e+000, 5.23726376e-258,\n",
       "        5.40734688e-066, 1.65371214e-010, 1.00000000e+000,\n",
       "        6.29350768e-054, 3.02006259e-139, 7.01437059e-060],\n",
       "       [1.31794782e-283, 0.00000000e+000, 1.08806108e-266,\n",
       "        5.59497936e-072, 8.33100630e-014, 1.00000000e+000,\n",
       "        1.54937021e-046, 1.11789019e-132, 6.29351453e-054],\n",
       "       [1.15006604e-289, 0.00000000e+000, 2.97711912e-274,\n",
       "        6.80351578e-078, 9.59382310e-018, 1.00000000e+000,\n",
       "        3.17913138e-037, 4.88195581e-117, 1.54936962e-046],\n",
       "       [2.93069535e-290, 0.00000000e+000, 1.63654926e-281,\n",
       "        2.29680279e-084, 3.03308484e-022, 1.00000000e+000,\n",
       "        9.90129989e-030, 1.50607215e-099, 3.17911633e-037],\n",
       "       [5.34876587e-289, 0.00000000e+000, 3.72965118e-283,\n",
       "        3.67933548e-092, 1.22952298e-027, 1.00000000e+000,\n",
       "        2.23121977e-023, 3.19623456e-088, 9.90036784e-030],\n",
       "       [3.92753867e-288, 0.00000000e+000, 3.42115756e-283,\n",
       "        2.04831177e-096, 9.95534117e-035, 1.00000000e+000,\n",
       "        5.89696287e-018, 7.75880301e-074, 2.22967878e-023],\n",
       "       [7.66146207e-288, 0.00000000e+000, 3.42058058e-283,\n",
       "        1.30955984e-101, 4.36215485e-039, 1.00000000e+000,\n",
       "        4.08390182e-013, 2.03867375e-068, 5.88904517e-018],\n",
       "       [8.58411161e-285, 0.00000000e+000, 3.33481607e-283,\n",
       "        7.49383016e-108, 9.13740275e-044, 9.99991982e-001,\n",
       "        8.01777708e-006, 1.12377079e-049, 1.60176709e-013],\n",
       "       [1.51982374e-283, 5.73455078e-318, 1.90083345e-283,\n",
       "        3.99571801e-112, 3.66993728e-050, 9.94464352e-001,\n",
       "        5.53547603e-003, 5.35621720e-039, 1.72259187e-007],\n",
       "       [2.87960652e-283, 4.08435652e-314, 5.41050674e-284,\n",
       "        3.11285313e-119, 2.63537687e-056, 8.62093270e-001,\n",
       "        1.37871258e-001, 1.48759735e-033, 3.54725023e-005],\n",
       "       [3.31070617e-283, 2.64751557e-306, 1.09951016e-284,\n",
       "        2.84927678e-126, 1.98366651e-065, 2.77795347e-001,\n",
       "        7.21685864e-001, 1.26759090e-024, 5.18788812e-004],\n",
       "       [3.40944956e-283, 3.22719939e-301, 1.12076291e-285,\n",
       "        4.15087405e-130, 1.97940136e-073, 2.47249380e-003,\n",
       "        9.96641750e-001, 7.03482599e-019, 8.85755885e-004],\n",
       "       [3.41385564e-283, 3.34793913e-295, 6.80155216e-286,\n",
       "        2.25555138e-136, 5.12668183e-082, 2.86198777e-006,\n",
       "        9.98230200e-001, 9.78661176e-013, 1.76693773e-003],\n",
       "       [3.41557878e-283, 1.47621756e-296, 5.07840665e-286,\n",
       "        2.26874038e-142, 4.31431120e-093, 6.26819380e-009,\n",
       "        9.98531617e-001, 4.31654148e-014, 1.46837673e-003],\n",
       "       [3.39457437e-283, 2.05766703e-292, 2.60828216e-285,\n",
       "        6.27533689e-151, 2.00902277e-103, 6.07965164e-013,\n",
       "        9.92379726e-001, 6.01551220e-010, 7.62027353e-003],\n",
       "       [3.40929600e-283, 1.23488665e-294, 1.13611917e-285,\n",
       "        2.11864761e-162, 2.43556379e-116, 3.41924736e-016,\n",
       "        9.96679246e-001, 3.61010349e-012, 3.32075358e-003],\n",
       "       [3.40383915e-283, 2.73908892e-291, 1.68180163e-285,\n",
       "        5.35372845e-174, 5.08860611e-132, 1.85120379e-020,\n",
       "        9.95083507e-001, 8.00749798e-009, 4.91648485e-003],\n",
       "       [3.40707258e-283, 1.59198809e-287, 1.34254098e-285,\n",
       "        2.00445032e-183, 2.66245557e-148, 2.21239021e-026,\n",
       "        9.96028674e-001, 4.65404216e-005, 3.92478556e-003],\n",
       "       [3.40379504e-283, 2.02673111e-290, 1.68619477e-285,\n",
       "        1.31267341e-195, 4.35911412e-165, 8.63139018e-031,\n",
       "        9.95070498e-001, 5.92497593e-008, 4.92944317e-003],\n",
       "       [3.39491481e-283, 3.52992333e-287, 2.53893885e-285,\n",
       "        3.76227086e-206, 4.03518439e-183, 2.74324016e-036,\n",
       "        9.92474435e-001, 1.03194303e-004, 7.42237054e-003],\n",
       "       [3.34849818e-283, 2.71911560e-285, 4.49678520e-285,\n",
       "        5.47836774e-218, 6.97658637e-201, 1.51906904e-041,\n",
       "        9.78904929e-001, 7.94910292e-003, 1.31459682e-002],\n",
       "       [2.89722080e-283, 5.01186519e-284, 2.22498717e-285,\n",
       "        1.96440932e-228, 5.56902851e-218, 5.82122526e-047,\n",
       "        8.46977829e-001, 1.46517611e-001, 6.50456045e-003],\n",
       "       [1.87724870e-283, 1.52072687e-283, 2.26816197e-285,\n",
       "        1.91060826e-240, 1.96440935e-228, 7.35419801e-053,\n",
       "        5.48797671e-001, 4.44571551e-001, 6.63077834e-003],\n",
       "       [1.31879798e-283, 2.08760248e-283, 1.42567329e-285,\n",
       "        5.84578713e-254, 1.91060830e-240, 1.05727337e-058,\n",
       "        3.85539359e-001, 6.10292807e-001, 4.16783445e-003],\n",
       "       [5.50489665e-284, 2.86870056e-283, 1.46696131e-286,\n",
       "        4.01945951e-264, 5.84578724e-254, 7.83111922e-066,\n",
       "        1.60930966e-001, 8.38640181e-001, 4.28853646e-004],\n",
       "       [4.33580710e-285, 3.37620315e-283, 1.09596862e-286,\n",
       "        3.47228170e-276, 4.01945951e-264, 1.82185942e-072,\n",
       "        1.26753628e-002, 9.87004240e-001, 3.20397092e-004],\n",
       "       [3.31190833e-286, 3.41407543e-283, 3.26985227e-286,\n",
       "        2.20011703e-290, 3.47228171e-276, 2.99752175e-078,\n",
       "        9.68208196e-004, 9.98075878e-001, 9.55913466e-004],\n",
       "       [3.72725490e-286, 3.41388080e-283, 3.04913244e-286,\n",
       "        2.46616013e-303, 2.20011706e-290, 3.88565623e-085,\n",
       "        1.08963123e-003, 9.98018981e-001, 8.91387904e-004],\n",
       "       [1.42877173e-286, 3.41658167e-283, 2.64674566e-286,\n",
       "        9.98134639e-318, 2.46616013e-303, 8.70637195e-091,\n",
       "        4.17689248e-004, 9.98808557e-001, 7.73753555e-004],\n",
       "       [3.23164144e-286, 3.41725579e-283, 1.69760853e-287,\n",
       "        0.00000000e+000, 9.98134639e-318, 2.21682698e-098,\n",
       "        9.44742855e-004, 9.99005629e-001, 4.96281398e-005],\n",
       "       [2.23253789e-287, 3.42042293e-283, 1.10077163e-288,\n",
       "        0.00000000e+000, 0.00000000e+000, 9.42657356e-106,\n",
       "        6.52663441e-005, 9.99931516e-001, 3.21801213e-006],\n",
       "       [1.35208251e-288, 3.42059886e-283, 4.48064193e-288,\n",
       "        0.00000000e+000, 0.00000000e+000, 1.05875814e-112,\n",
       "        3.95269808e-006, 9.99982949e-001, 1.30987751e-005],\n",
       "       [3.64061670e-288, 3.42041449e-283, 2.06295143e-287,\n",
       "        8.89318163e-323, 0.00000000e+000, 9.27189847e-121,\n",
       "        1.06430329e-005, 9.99929048e-001, 6.03086282e-005],\n",
       "       [7.87360905e-288, 3.41954712e-283, 1.03133204e-286,\n",
       "        3.36407365e-310, 0.00000000e+000, 4.19883938e-128,\n",
       "        2.30178256e-005, 9.99675481e-001, 3.01501138e-004],\n",
       "       [5.63257866e-288, 3.39926487e-283, 2.13359922e-285,\n",
       "        4.31398552e-299, 8.39911598e-323, 1.08486317e-133,\n",
       "        1.64663641e-005, 9.93746138e-001, 6.23739564e-003]])"
      ]
     },
     "execution_count": 103,
     "metadata": {},
     "output_type": "execute_result"
    }
   ],
   "source": [
    "np.exp(example['loggamma'])"
   ]
  },
  {
   "cell_type": "code",
   "execution_count": 22,
   "metadata": {},
   "outputs": [
    {
     "data": {
      "text/plain": [
       "(9, 13)"
      ]
     },
     "execution_count": 22,
     "metadata": {},
     "output_type": "execute_result"
    }
   ],
   "source": [
    "np.dot(np.exp(example['loggamma']).T,example['lmfcc']).shape"
   ]
  },
  {
   "cell_type": "code",
   "execution_count": 23,
   "metadata": {},
   "outputs": [
    {
     "data": {
      "text/plain": [
       "(9,)"
      ]
     },
     "execution_count": 23,
     "metadata": {},
     "output_type": "execute_result"
    }
   ],
   "source": [
    "logsumexp(example['loggamma']).shape"
   ]
  },
  {
   "cell_type": "code",
   "execution_count": 27,
   "metadata": {},
   "outputs": [
    {
     "data": {
      "text/plain": [
       "(9,)"
      ]
     },
     "execution_count": 27,
     "metadata": {},
     "output_type": "execute_result"
    }
   ],
   "source": [
    "logsumexp(example['loggamma']).shape"
   ]
  },
  {
   "cell_type": "code",
   "execution_count": 32,
   "metadata": {},
   "outputs": [],
   "source": [
    "new_mean,new_covars = updateMeanAndVar(example['lmfcc'],example['loggamma'])"
   ]
  },
  {
   "cell_type": "code",
   "execution_count": 34,
   "metadata": {},
   "outputs": [
    {
     "data": {
      "text/plain": [
       "(9, 13)"
      ]
     },
     "execution_count": 34,
     "metadata": {},
     "output_type": "execute_result"
    }
   ],
   "source": [
    "new_covars.shape"
   ]
  },
  {
   "cell_type": "code",
   "execution_count": 124,
   "metadata": {},
   "outputs": [],
   "source": [
    "for i in range(9):\n",
    "    aaa[i]/=aa[i]"
   ]
  },
  {
   "cell_type": "code",
   "execution_count": 10,
   "metadata": {},
   "outputs": [],
   "source": [
    "a = np.array([[0,0,1],[0,0,0],[0,0,2]])\n",
    "b = logsumexp(a,axis=1)"
   ]
  },
  {
   "cell_type": "code",
   "execution_count": 11,
   "metadata": {},
   "outputs": [
    {
     "data": {
      "text/plain": [
       "array([4.71828183, 3.        , 9.3890561 ])"
      ]
     },
     "execution_count": 11,
     "metadata": {},
     "output_type": "execute_result"
    }
   ],
   "source": [
    "np.exp(b)"
   ]
  },
  {
   "cell_type": "code",
   "execution_count": null,
   "metadata": {},
   "outputs": [],
   "source": []
  }
 ],
 "metadata": {
  "kernelspec": {
   "display_name": "Python 3",
   "language": "python",
   "name": "python3"
  },
  "language_info": {
   "codemirror_mode": {
    "name": "ipython",
    "version": 3
   },
   "file_extension": ".py",
   "mimetype": "text/x-python",
   "name": "python",
   "nbconvert_exporter": "python",
   "pygments_lexer": "ipython3",
   "version": "3.6.5"
  },
  "toc": {
   "nav_menu": {},
   "number_sections": true,
   "sideBar": true,
   "skip_h1_title": false,
   "toc_cell": false,
   "toc_position": {},
   "toc_section_display": "block",
   "toc_window_display": false
  },
  "varInspector": {
   "cols": {
    "lenName": 16,
    "lenType": 16,
    "lenVar": 40
   },
   "kernels_config": {
    "python": {
     "delete_cmd_postfix": "",
     "delete_cmd_prefix": "del ",
     "library": "var_list.py",
     "varRefreshCmd": "print(var_dic_list())"
    },
    "r": {
     "delete_cmd_postfix": ") ",
     "delete_cmd_prefix": "rm(",
     "library": "var_list.r",
     "varRefreshCmd": "cat(var_dic_list()) "
    }
   },
   "types_to_exclude": [
    "module",
    "function",
    "builtin_function_or_method",
    "instance",
    "_Feature"
   ],
   "window_display": false
  }
 },
 "nbformat": 4,
 "nbformat_minor": 2
}
